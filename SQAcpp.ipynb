{
  "nbformat": 4,
  "nbformat_minor": 0,
  "metadata": {
    "colab": {
      "provenance": [],
      "include_colab_link": true
    },
    "kernelspec": {
      "name": "python3",
      "display_name": "Python 3"
    },
    "language_info": {
      "name": "python"
    }
  },
  "cells": [
    {
      "cell_type": "markdown",
      "metadata": {
        "id": "view-in-github",
        "colab_type": "text"
      },
      "source": [
        "<a href=\"https://colab.research.google.com/github/okahaya/shift_opt/blob/main/SQAcpp.ipynb\" target=\"_parent\"><img src=\"https://colab.research.google.com/assets/colab-badge.svg\" alt=\"Open In Colab\"/></a>"
      ]
    },
    {
      "cell_type": "code",
      "source": [
        "!apt install build-essential"
      ],
      "metadata": {
        "id": "6itY7l_dDL0L",
        "outputId": "584c761b-55d5-4f7d-8af0-36f86c030302",
        "colab": {
          "base_uri": "https://localhost:8080/"
        }
      },
      "execution_count": 1,
      "outputs": [
        {
          "output_type": "stream",
          "name": "stdout",
          "text": [
            "Reading package lists... Done\n",
            "Building dependency tree... Done\n",
            "Reading state information... Done\n",
            "build-essential is already the newest version (12.9ubuntu3).\n",
            "0 upgraded, 0 newly installed, 0 to remove and 45 not upgraded.\n"
          ]
        }
      ]
    },
    {
      "cell_type": "code",
      "source": [
        "%%writefile quantum_annealing.cpp\n",
        "#include <iostream>\n",
        "#include <vector>\n",
        "#include <cmath>\n",
        "#include <cstdlib>\n",
        "#include <algorithm>\n",
        "#include <limits>\n",
        "\n",
        "using namespace std;\n",
        "\n",
        "int randint(int a, int b) {\n",
        "    random_device rd;  // Obtain a random number from hardware\n",
        "    mt19937 gen(rd()); // Seed the generator\n",
        "    uniform_int_distribution<> distr(a, b); // Define the range\n",
        "\n",
        "    return distr(gen);\n",
        "}\n",
        "\n",
        "template<class InputIt1, class InputIt2, class T>\n",
        "constexpr\n",
        "T inner_product(InputIt1 first1, InputIt1 last1, InputIt2 first2, T init)\n",
        "{\n",
        "    while (first1 != last1)\n",
        "    {\n",
        "        init = std::move(init) + (*first1) * (*first2);\n",
        "        ++first1;\n",
        "        ++first2;\n",
        "    }\n",
        "\n",
        "    return init;\n",
        "}\n",
        "\n",
        "double qubo_energy(const vector<vector<int>>& bits, const vector<vector<double>>& Q) {\n",
        "    int L = bits.size();\n",
        "    int N = bits[0].size();\n",
        "    double energy = 0.0;\n",
        "\n",
        "    for (int i = 0; i < L; ++i) {\n",
        "        for (int j = 0; j < N; ++j) {\n",
        "            for (int k = 0; k < N; ++k) {\n",
        "                energy += Q[j][k] * bits[i][j] * bits[i][k];\n",
        "            }\n",
        "        }\n",
        "    }\n",
        "\n",
        "    return energy;\n",
        "}\n",
        "\n",
        "void monte_carlo_step(vector<vector<int>>& bits, const vector<vector<double>>& Q, double T, double max_dE = 1000.0) {\n",
        "    int L = bits.size();\n",
        "    int N = bits[0].size();\n",
        "\n",
        "    for (int i = 0; i < L * N; ++i) {\n",
        "        int layer = randint(1,L);\n",
        "        int bit = randint(1,N);\n",
        "        int current_bit = bits[layer][bit];\n",
        "        bits[layer][bit] = 1 - bits[layer][bit];\n",
        "\n",
        "        double dE = (1 - 2 * current_bit) * (inner_product(Q[bit].begin(), Q[bit].end(), bits[layer].begin(), 0.0) - Q[bit][bit]);\n",
        "        dE = max(-max_dE, min(dE, max_dE));\n",
        "\n",
        "        if (static_cast<double>(rand()) / RAND_MAX >= exp(-dE / T)) {\n",
        "            bits[layer][bit] = current_bit;\n",
        "        }\n",
        "    }\n",
        "}\n",
        "\n",
        "pair<vector<int>, double> quantum_annealing(int L, int N, const vector<vector<double>>& Q, double T, int mc_steps, int anneal_steps) {\n",
        "    vector<vector<int>> bits(L, vector<int>(N));\n",
        "\n",
        "    for (int i = 0; i < L; ++i) {\n",
        "        for (int j = 0; j < N; ++j) {\n",
        "            bits[i][j] = randint(0,1);\n",
        "        }\n",
        "    }\n",
        "\n",
        "    for (int i = 0; i < anneal_steps; ++i) {\n",
        "        for (int j = 0; j < mc_steps; ++j) {\n",
        "            monte_carlo_step(bits, Q, T);\n",
        "        }\n",
        "        T *= 0.95;\n",
        "    }\n",
        "\n",
        "    double min_energy = numeric_limits<double>::infinity();\n",
        "    vector<int> best_bits;\n",
        "\n",
        "    for (int layer = 0; layer < L; ++layer) {\n",
        "        double layer_energy = qubo_energy({bits[layer]}, Q);\n",
        "        if (layer_energy < min_energy) {\n",
        "            min_energy = layer_energy;\n",
        "            best_bits = bits[layer];\n",
        "        }\n",
        "    }\n",
        "\n",
        "    min_energy = qubo_energy({best_bits}, Q);\n",
        "    return {best_bits, min_energy};\n",
        "}\n",
        "\n",
        "int main() {\n",
        "    int mc_steps = 100;  // Number of Monte Carlo steps\n",
        "    int anneal_steps = 100;  // Number of annealing steps\n",
        "\n",
        "    int L = 3;  // Number of layers\n",
        "    int N = 10; // Number of bits in each layer\n",
        "    double T = 1.0;\n",
        "    vector<vector<double>> Q(N, vector<double>(N, 0.0));\n",
        "\n",
        "    for (int i = 0; i < N; ++i) {\n",
        "        Q[i][i] = -1.0;\n",
        "    }\n",
        "\n",
        "    for (int j = 0; j < N; ++j) {\n",
        "        for (int i = j; i < N; ++i) {\n",
        "            if (i != j) {\n",
        "                Q[i][j] = 2.0;\n",
        "            }\n",
        "        }\n",
        "    }\n",
        "\n",
        "    pair<vector<int>, double> result = quantum_annealing(L, N, Q, T, mc_steps, anneal_steps);\n",
        "\n",
        "    cout << \"Best bits: \";\n",
        "    for (int bit : result.first) {\n",
        "        cout << bit << \" \";\n",
        "    }\n",
        "    cout << endl;\n",
        "\n",
        "    cout << \"Minimum energy: \" << result.second << endl;\n",
        "\n",
        "    return 0;\n",
        "}\n",
        "\n",
        "\n"
      ],
      "metadata": {
        "id": "WB7iVB1uDQHX",
        "outputId": "4f03acdb-ffb9-4af3-d8f1-76258c92ed7f",
        "colab": {
          "base_uri": "https://localhost:8080/"
        }
      },
      "execution_count": 4,
      "outputs": [
        {
          "output_type": "stream",
          "name": "stdout",
          "text": [
            "Overwriting quantum_annealing.cpp\n"
          ]
        }
      ]
    },
    {
      "cell_type": "code",
      "source": [
        "!g++ -o quantum_annealing quantum_annealing.cpp\n",
        "!./quantum_annealing"
      ],
      "metadata": {
        "id": "1iZJ48XxGHn8",
        "outputId": "ba8a8d3d-7454-48db-ece0-3b18b96b9366",
        "colab": {
          "base_uri": "https://localhost:8080/"
        }
      },
      "execution_count": 5,
      "outputs": [
        {
          "output_type": "stream",
          "name": "stdout",
          "text": [
            "\u001b[01m\u001b[Kquantum_annealing.cpp:\u001b[m\u001b[K In function ‘\u001b[01m\u001b[Kint randint(int, int)\u001b[m\u001b[K’:\n",
            "\u001b[01m\u001b[Kquantum_annealing.cpp:11:7:\u001b[m\u001b[K \u001b[01;31m\u001b[Kerror: \u001b[m\u001b[K‘\u001b[01m\u001b[K::random_device\u001b[m\u001b[K’ has not been declared; did you mean ‘\u001b[01m\u001b[Krandom_data\u001b[m\u001b[K’?\n",
            "   11 |     ::\u001b[01;31m\u001b[Krandom_device\u001b[m\u001b[K rd;  // Obtain a random number from hardware\n",
            "      |       \u001b[01;31m\u001b[K^~~~~~~~~~~~~\u001b[m\u001b[K\n",
            "      |       \u001b[32m\u001b[Krandom_data\u001b[m\u001b[K\n",
            "\u001b[01m\u001b[Kquantum_annealing.cpp:12:7:\u001b[m\u001b[K \u001b[01;31m\u001b[Kerror: \u001b[m\u001b[K‘\u001b[01m\u001b[K::mt19937\u001b[m\u001b[K’ has not been declared\n",
            "   12 |     ::\u001b[01;31m\u001b[Kmt19937\u001b[m\u001b[K gen(rd()); // Seed the generator\n",
            "      |       \u001b[01;31m\u001b[K^~~~~~~\u001b[m\u001b[K\n",
            "\u001b[01m\u001b[Kquantum_annealing.cpp:15:18:\u001b[m\u001b[K \u001b[01;31m\u001b[Kerror: \u001b[m\u001b[K‘\u001b[01m\u001b[Kgen\u001b[m\u001b[K’ was not declared in this scope\n",
            "   15 |     return distr(\u001b[01;31m\u001b[Kgen\u001b[m\u001b[K);\n",
            "      |                  \u001b[01;31m\u001b[K^~~\u001b[m\u001b[K\n",
            "/bin/bash: line 1: ./quantum_annealing: No such file or directory\n"
          ]
        }
      ]
    },
    {
      "cell_type": "code",
      "source": [],
      "metadata": {
        "id": "dDMfs_F-Miqm"
      },
      "execution_count": null,
      "outputs": []
    }
  ]
}